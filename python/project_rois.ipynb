{
 "cells": [
  {
   "cell_type": "code",
   "execution_count": 1,
   "id": "1146286a-4405-449f-a862-3b5765932440",
   "metadata": {},
   "outputs": [],
   "source": [
    "import numpy as np\n",
    "from dipy.io.image import load_nifti, save_nifti\n"
   ]
  },
  {
   "cell_type": "code",
   "execution_count": 2,
   "id": "cc205551-2987-483a-aabe-c0b3c0fede26",
   "metadata": {},
   "outputs": [],
   "source": [
    "main_dir = \"/media/baetes01/baetelabspace/on_sampling/smi\"\n",
    "tdi_threshold = 20\n"
   ]
  },
  {
   "cell_type": "code",
   "execution_count": 3,
   "id": "e8a80055-9aee-46e3-86d5-fc3b2ccd62b5",
   "metadata": {},
   "outputs": [],
   "source": [
    "def run_roi_projection(subject_id, session):\n",
    "\n",
    "    register_dir = \"%s/sub-%08d/ses-%s/register_atlas\" % (main_dir, subject_id, session)\n",
    "\n",
    "    for hemisphere in ['l', 'r']:\n",
    "        for roi_id in range(12):\n",
    "    \n",
    "            roi_file = \"%s/roi_b0_%c_%02d.nii.gz\" % (register_dir, hemisphere, roi_id)\n",
    "            roi_proj_file = \"%s/roi_b0_proj_%c_%02d.nii.gz\" % (register_dir, hemisphere, roi_id)\n",
    "            \n",
    "            on_file = \"%s/track_%c.tt.gz.tdi.nii.gz\" % (register_dir, hemisphere)\n",
    "            \n",
    "            roi_data, roi_affine = load_nifti(roi_file)\n",
    "            on_data, _ = load_nifti(on_file)\n",
    "    \n",
    "            on_coords = np.argwhere(on_data>tdi_threshold)\n",
    "            roi_proj_coords = np.argmin(np.linalg.norm(on_coords-np.argwhere(roi_data>0), axis=1))\n",
    "            \n",
    "            roi_proj_data = np.zeros_like(roi_data)\n",
    "            roi_proj_data[on_coords[roi_proj_coords][0], on_coords[roi_proj_coords][1], on_coords[roi_proj_coords][2]] = 1\n",
    "            \n",
    "            save_nifti(roi_proj_file, roi_proj_data, roi_affine)\n"
   ]
  },
  {
   "cell_type": "code",
   "execution_count": 6,
   "id": "9c30f5ff-2cab-43c1-87bb-e69374b201a6",
   "metadata": {},
   "outputs": [],
   "source": [
    "subject_ids = [\n",
    "    1800777, 13949233, 14575264, 15210884, 15880428, 16125652, 16331017, 16589788\n",
    "]\n",
    "\n",
    "for subject_id in subject_ids:\n",
    "    run_roi_projection(subject_id, 'test')\n",
    "    run_roi_projection(subject_id, 'retest')"
   ]
  },
  {
   "cell_type": "code",
   "execution_count": null,
   "id": "a3e9359e-fd70-4ece-bed7-4861a540b2d7",
   "metadata": {},
   "outputs": [],
   "source": []
  }
 ],
 "metadata": {
  "kernelspec": {
   "display_name": "Python 3 (ipykernel)",
   "language": "python",
   "name": "python3"
  },
  "language_info": {
   "codemirror_mode": {
    "name": "ipython",
    "version": 3
   },
   "file_extension": ".py",
   "mimetype": "text/x-python",
   "name": "python",
   "nbconvert_exporter": "python",
   "pygments_lexer": "ipython3",
   "version": "3.12.2"
  }
 },
 "nbformat": 4,
 "nbformat_minor": 5
}
